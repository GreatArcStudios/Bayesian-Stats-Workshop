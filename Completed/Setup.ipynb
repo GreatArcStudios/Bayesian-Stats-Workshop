{
 "cells": [
  {
   "cell_type": "markdown",
   "metadata": {
    "collapsed": true,
    "pycharm": {
     "name": "#%% md\n"
    }
   },
   "source": [
    "# Bayesian Workshop Stan Setup\n",
    "We will need Stan for this workshop, so make sure that you can setup the required packages.\n",
    "\n",
    "In particular, we will need:\n",
    "\n",
    "- `arviz`\n",
    "- `cmdstanpy`\n",
    "- `numpy`\n",
    "- `pandas`\n",
    "- `seaborn`\n",
    "- `matplotlib`\n",
    "\n",
    "You can download these with `pip`, e.g., `pip install ...`, and if you're using an Anaconda env, make sure to open the conda prompt and install them there.\n",
    "\n",
    "The only \"hard\" part of installation is installing Stan/cmdstanpy. First, go to the [Stan user guide](https://mc-stan.org/docs/2_27/cmdstan-guide-2_27.pdf), where you'll need to go to the installation portion corresponding to your OS. This will be around page 9 of the pdf.\n",
    "\n",
    "## Windows\n",
    "\n",
    "If you're on Windows, you may opt to install Rtools40 on its [website](https://cran.r-project.org/bin/windows/Rtools/). Then the user guide tells you to add a few environment variables (`C:\\RTools\\RTools40\\usr\\bin` and `C:\\RTools\\RTools40\\mingw64\\bin`). Do so by opening up your search and type \"Edit the system environment variables\", and hit enter. When the \"systems properties\" pane comes up, click the \"Environment Variables\" button on the bottom right, and scroll down to the row that says \"Path\" in either the system variables half or the user variables half. Then click on an empty row and put the first folder path `C:\\RTools\\RTools40\\usr\\bin` into that row and then repeat for the second variable, `C:\\RTools\\RTools40\\mingw64\\bin`.\n",
    "\n",
    "Note that these entries must be on separate rows!\n",
    "\n",
    "To check that the install worked, open a cmd prompt/powershell/shell window and type:\n",
    "`g++ --version` and `make --version`. If those return values, move on to installing cmdstan.\n",
    "\n",
    "## Installing cmdstan through Python\n",
    "\n",
    "With the development toolchain complete, you'll need to install cmdstan. Do so by first installing cmdstanpy, either through pip or anaconda (you may also use pip in an anaconda env). The pip command is `pip install cmdstanpy`. With cmdstanpy installed, run the following python code from the cmdstanpy [docs](https://mc-stan.org/cmdstanpy/installation.html):\n",
    "\n",
    "```python3\n",
    "import cmdstanpy\n",
    "cmdstanpy.install_cmdstan()\n",
    "```\n",
    "This should hopefully install cmdstanpy for you. To make sure that everything is setup, run the following code:\n",
    "\n",
    "```python3\n",
    "import os\n",
    "from cmdstanpy import cmdstan_path, CmdStanModel\n",
    "\n",
    "# specify locations of Stan program file and data\n",
    "bernoulli_stan = os.path.join(cmdstan_path(), 'examples', 'bernoulli', 'bernoulli.stan')\n",
    "bernoulli_data = os.path.join(cmdstan_path(), 'examples', 'bernoulli', 'bernoulli.data.json')\n",
    "\n",
    "# instantiate a model; compiles the Stan program by default\n",
    "bernoulli_model = CmdStanModel(stan_file=bernoulli_stan)\n",
    "\n",
    "# obtain a posterior sample from the model conditioned on the data\n",
    "bernoulli_fit = bernoulli_model.sample(chains=4, data=bernoulli_data)\n",
    "\n",
    "# summarize the results (wraps CmdStan `bin/stansummary`):\n",
    "bernoulli_fit.summary()\n",
    "```\n",
    "**Important**: You only need to check that you're getitng output from cmdstanpy functions, if the model fails to compile, you should be fine. There seems to be an error with one of the cmdstan example programs. As long as you don't get any python errors about files not found you should be all set!"
   ]
  }
 ],
 "metadata": {
  "kernelspec": {
   "display_name": "Python 3",
   "language": "python",
   "name": "python3"
  },
  "language_info": {
   "codemirror_mode": {
    "name": "ipython",
    "version": 2
   },
   "file_extension": ".py",
   "mimetype": "text/x-python",
   "name": "python",
   "nbconvert_exporter": "python",
   "pygments_lexer": "ipython2",
   "version": "2.7.6"
  }
 },
 "nbformat": 4,
 "nbformat_minor": 0
}